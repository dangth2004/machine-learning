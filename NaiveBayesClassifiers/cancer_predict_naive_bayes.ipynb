{
 "cells": [
  {
   "cell_type": "code",
   "id": "initial_id",
   "metadata": {
    "collapsed": true,
    "ExecuteTime": {
     "end_time": "2024-10-17T06:10:17.294493Z",
     "start_time": "2024-10-17T06:10:17.291674Z"
    }
   },
   "source": [
    "import pandas as pd\n",
    "from sklearn.naive_bayes import GaussianNB\n",
    "from sklearn.metrics import accuracy_score, precision_score, recall_score, f1_score"
   ],
   "outputs": [],
   "execution_count": 4
  },
  {
   "metadata": {
    "ExecuteTime": {
     "end_time": "2024-10-17T06:10:02.641078Z",
     "start_time": "2024-10-17T06:10:02.609815Z"
    }
   },
   "cell_type": "code",
   "source": [
    "# Read data\n",
    "# Change to data path on your computer\n",
    "data = pd.read_csv('breast-cancer-wisconsin.data')\n",
    "# Show the description of data\n",
    "data.describe()"
   ],
   "id": "7da1b79da998fee7",
   "outputs": [
    {
     "data": {
      "text/plain": [
       "            1000025           2           5           1         1.1  \\\n",
       "count  6.980000e+02  698.000000  698.000000  698.000000  698.000000   \n",
       "mean   1.071807e+06    2.690544    4.416905    3.137536    3.210602   \n",
       "std    6.175323e+05    0.951596    2.817673    3.052575    2.972867   \n",
       "min    6.163400e+04    2.000000    1.000000    1.000000    1.000000   \n",
       "25%    8.702582e+05    2.000000    2.000000    1.000000    1.000000   \n",
       "50%    1.171710e+06    2.000000    4.000000    1.000000    1.000000   \n",
       "75%    1.238354e+06    4.000000    6.000000    5.000000    5.000000   \n",
       "max    1.345435e+07    4.000000   10.000000   10.000000   10.000000   \n",
       "\n",
       "              1.2         2.1         1.3           3         1.4         1.5  \n",
       "count  698.000000  698.000000  698.000000  698.000000  698.000000  698.000000  \n",
       "mean     2.809456    3.217765    3.467049    3.438395    2.869628    1.590258  \n",
       "std      2.856606    2.215408    3.642122    2.440056    3.055004    1.716162  \n",
       "min      1.000000    1.000000    0.000000    1.000000    1.000000    1.000000  \n",
       "25%      1.000000    2.000000    1.000000    2.000000    1.000000    1.000000  \n",
       "50%      1.000000    2.000000    1.000000    3.000000    1.000000    1.000000  \n",
       "75%      4.000000    4.000000    5.000000    5.000000    4.000000    1.000000  \n",
       "max     10.000000   10.000000   10.000000   10.000000   10.000000   10.000000  "
      ],
      "text/html": [
       "<div>\n",
       "<style scoped>\n",
       "    .dataframe tbody tr th:only-of-type {\n",
       "        vertical-align: middle;\n",
       "    }\n",
       "\n",
       "    .dataframe tbody tr th {\n",
       "        vertical-align: top;\n",
       "    }\n",
       "\n",
       "    .dataframe thead th {\n",
       "        text-align: right;\n",
       "    }\n",
       "</style>\n",
       "<table border=\"1\" class=\"dataframe\">\n",
       "  <thead>\n",
       "    <tr style=\"text-align: right;\">\n",
       "      <th></th>\n",
       "      <th>1000025</th>\n",
       "      <th>2</th>\n",
       "      <th>5</th>\n",
       "      <th>1</th>\n",
       "      <th>1.1</th>\n",
       "      <th>1.2</th>\n",
       "      <th>2.1</th>\n",
       "      <th>1.3</th>\n",
       "      <th>3</th>\n",
       "      <th>1.4</th>\n",
       "      <th>1.5</th>\n",
       "    </tr>\n",
       "  </thead>\n",
       "  <tbody>\n",
       "    <tr>\n",
       "      <th>count</th>\n",
       "      <td>6.980000e+02</td>\n",
       "      <td>698.000000</td>\n",
       "      <td>698.000000</td>\n",
       "      <td>698.000000</td>\n",
       "      <td>698.000000</td>\n",
       "      <td>698.000000</td>\n",
       "      <td>698.000000</td>\n",
       "      <td>698.000000</td>\n",
       "      <td>698.000000</td>\n",
       "      <td>698.000000</td>\n",
       "      <td>698.000000</td>\n",
       "    </tr>\n",
       "    <tr>\n",
       "      <th>mean</th>\n",
       "      <td>1.071807e+06</td>\n",
       "      <td>2.690544</td>\n",
       "      <td>4.416905</td>\n",
       "      <td>3.137536</td>\n",
       "      <td>3.210602</td>\n",
       "      <td>2.809456</td>\n",
       "      <td>3.217765</td>\n",
       "      <td>3.467049</td>\n",
       "      <td>3.438395</td>\n",
       "      <td>2.869628</td>\n",
       "      <td>1.590258</td>\n",
       "    </tr>\n",
       "    <tr>\n",
       "      <th>std</th>\n",
       "      <td>6.175323e+05</td>\n",
       "      <td>0.951596</td>\n",
       "      <td>2.817673</td>\n",
       "      <td>3.052575</td>\n",
       "      <td>2.972867</td>\n",
       "      <td>2.856606</td>\n",
       "      <td>2.215408</td>\n",
       "      <td>3.642122</td>\n",
       "      <td>2.440056</td>\n",
       "      <td>3.055004</td>\n",
       "      <td>1.716162</td>\n",
       "    </tr>\n",
       "    <tr>\n",
       "      <th>min</th>\n",
       "      <td>6.163400e+04</td>\n",
       "      <td>2.000000</td>\n",
       "      <td>1.000000</td>\n",
       "      <td>1.000000</td>\n",
       "      <td>1.000000</td>\n",
       "      <td>1.000000</td>\n",
       "      <td>1.000000</td>\n",
       "      <td>0.000000</td>\n",
       "      <td>1.000000</td>\n",
       "      <td>1.000000</td>\n",
       "      <td>1.000000</td>\n",
       "    </tr>\n",
       "    <tr>\n",
       "      <th>25%</th>\n",
       "      <td>8.702582e+05</td>\n",
       "      <td>2.000000</td>\n",
       "      <td>2.000000</td>\n",
       "      <td>1.000000</td>\n",
       "      <td>1.000000</td>\n",
       "      <td>1.000000</td>\n",
       "      <td>2.000000</td>\n",
       "      <td>1.000000</td>\n",
       "      <td>2.000000</td>\n",
       "      <td>1.000000</td>\n",
       "      <td>1.000000</td>\n",
       "    </tr>\n",
       "    <tr>\n",
       "      <th>50%</th>\n",
       "      <td>1.171710e+06</td>\n",
       "      <td>2.000000</td>\n",
       "      <td>4.000000</td>\n",
       "      <td>1.000000</td>\n",
       "      <td>1.000000</td>\n",
       "      <td>1.000000</td>\n",
       "      <td>2.000000</td>\n",
       "      <td>1.000000</td>\n",
       "      <td>3.000000</td>\n",
       "      <td>1.000000</td>\n",
       "      <td>1.000000</td>\n",
       "    </tr>\n",
       "    <tr>\n",
       "      <th>75%</th>\n",
       "      <td>1.238354e+06</td>\n",
       "      <td>4.000000</td>\n",
       "      <td>6.000000</td>\n",
       "      <td>5.000000</td>\n",
       "      <td>5.000000</td>\n",
       "      <td>4.000000</td>\n",
       "      <td>4.000000</td>\n",
       "      <td>5.000000</td>\n",
       "      <td>5.000000</td>\n",
       "      <td>4.000000</td>\n",
       "      <td>1.000000</td>\n",
       "    </tr>\n",
       "    <tr>\n",
       "      <th>max</th>\n",
       "      <td>1.345435e+07</td>\n",
       "      <td>4.000000</td>\n",
       "      <td>10.000000</td>\n",
       "      <td>10.000000</td>\n",
       "      <td>10.000000</td>\n",
       "      <td>10.000000</td>\n",
       "      <td>10.000000</td>\n",
       "      <td>10.000000</td>\n",
       "      <td>10.000000</td>\n",
       "      <td>10.000000</td>\n",
       "      <td>10.000000</td>\n",
       "    </tr>\n",
       "  </tbody>\n",
       "</table>\n",
       "</div>"
      ]
     },
     "execution_count": 3,
     "metadata": {},
     "output_type": "execute_result"
    }
   ],
   "execution_count": 3
  },
  {
   "metadata": {
    "ExecuteTime": {
     "end_time": "2024-10-17T06:11:55.105971Z",
     "start_time": "2024-10-17T06:11:55.097295Z"
    }
   },
   "cell_type": "code",
   "source": [
    "# Đặt tên cho các cột\n",
    "data.columns = ['Sample code number', 'Class', 'Clump Thickness',\n",
    "                'Uniformity of Cell Size', 'Uniformity of Cell Shape',\n",
    "                'Marginal Adhesion', 'Single Epithelial Cell Size',\n",
    "                'Bare Nuclei', 'Bland Chromatin', 'Normal Nucleoli', 'Mitoses']\n",
    "\n",
    "# Tách riêng các mẫu lành tính và ác tính\n",
    "benign_samples = data[data['Class'] == 2]  # Mẫu lành tính (Diagnosis = 2)\n",
    "malignant_samples = data[data['Class'] == 4]  # Mẫu ác tính (Diagnosis = 4)\n",
    "\n",
    "# Chọn ngẫu nhiên 80 mẫu lành tính và 40 mẫu ác tính cho tập test\n",
    "benign_test = benign_samples.sample(n=80, random_state=42)\n",
    "malignant_test = malignant_samples.sample(n=40, random_state=42)\n",
    "\n",
    "# Phần còn lại là dữ liệu training\n",
    "benign_train = benign_samples.drop(benign_test.index)\n",
    "malignant_train = malignant_samples.drop(malignant_test.index)\n",
    "\n",
    "# Gộp lại tập test và training\n",
    "test_data = pd.concat([benign_test, malignant_test])\n",
    "train_data = pd.concat([benign_train, malignant_train])\n",
    "\n",
    "# Tách dữ liệu (X) và nhãn (y) cho tập training và test\n",
    "X_train = train_data.drop(['Sample code number', 'Class'], axis=1)\n",
    "y_train = train_data['Class'].apply(lambda x: 1 if x == 4 else 0)  # 1: ác tính, 0: lành tính\n",
    "\n",
    "X_test = test_data.drop(['Sample code number', 'Class'], axis=1)\n",
    "y_test = test_data['Class'].apply(lambda x: 1 if x == 4 else 0)"
   ],
   "id": "aca4d73c71335848",
   "outputs": [],
   "execution_count": 5
  },
  {
   "metadata": {
    "ExecuteTime": {
     "end_time": "2024-10-17T06:12:11.462072Z",
     "start_time": "2024-10-17T06:12:11.456172Z"
    }
   },
   "cell_type": "code",
   "source": [
    "# Huấn luyện mô hình Gaussian Naive Bayes\n",
    "classifier = GaussianNB()\n",
    "classifier.fit(X_train, y_train)\n",
    "\n",
    "# Dự đoán trên tập test\n",
    "y_pred = classifier.predict(X_test)"
   ],
   "id": "f46776ee677eb922",
   "outputs": [],
   "execution_count": 6
  },
  {
   "metadata": {
    "ExecuteTime": {
     "end_time": "2024-10-17T06:12:42.168607Z",
     "start_time": "2024-10-17T06:12:42.160912Z"
    }
   },
   "cell_type": "code",
   "source": [
    "# Tính toán các chỉ số Accuracy, Precision, và Recall\n",
    "accuracy = accuracy_score(y_test, y_pred)\n",
    "precision = precision_score(y_test, y_pred)\n",
    "recall = recall_score(y_test, y_pred)\n",
    "f1_score = f1_score(y_test, y_pred)\n",
    "\n",
    "# In kết quả ra màn hình\n",
    "print(f'Accuracy: {accuracy:.2f}')\n",
    "print(f'Precision: {precision:.2f}')\n",
    "print(f'Recall: {recall:.2f}') \n",
    "print(f'F1_score: {f1_score:.2f}')"
   ],
   "id": "dc055d3979795ded",
   "outputs": [
    {
     "name": "stdout",
     "output_type": "stream",
     "text": [
      "Accuracy: 0.96\n",
      "Precision: 0.91\n",
      "Recall: 0.97\n",
      "F1_score: 0.94\n"
     ]
    }
   ],
   "execution_count": 7
  }
 ],
 "metadata": {
  "kernelspec": {
   "display_name": "Python 3",
   "language": "python",
   "name": "python3"
  },
  "language_info": {
   "codemirror_mode": {
    "name": "ipython",
    "version": 2
   },
   "file_extension": ".py",
   "mimetype": "text/x-python",
   "name": "python",
   "nbconvert_exporter": "python",
   "pygments_lexer": "ipython2",
   "version": "2.7.6"
  }
 },
 "nbformat": 4,
 "nbformat_minor": 5
}
