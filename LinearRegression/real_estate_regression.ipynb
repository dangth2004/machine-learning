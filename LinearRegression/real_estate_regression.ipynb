{
 "cells": [
  {
   "cell_type": "code",
   "id": "initial_id",
   "metadata": {
    "collapsed": true,
    "ExecuteTime": {
     "end_time": "2024-10-17T10:22:31.491116Z",
     "start_time": "2024-10-17T10:22:31.424921Z"
    }
   },
   "source": [
    "import pandas as pd\n",
    "import numpy as np\n",
    "from sklearn.linear_model import LinearRegression\n",
    "from sklearn.metrics import mean_squared_error, mean_absolute_error, r2_score"
   ],
   "outputs": [],
   "execution_count": 1
  },
  {
   "metadata": {
    "ExecuteTime": {
     "end_time": "2024-10-17T10:22:31.517771Z",
     "start_time": "2024-10-17T10:22:31.499688Z"
    }
   },
   "cell_type": "code",
   "source": [
    "# Read data\n",
    "# Change to data path on your computer\n",
    "data = pd.read_csv('real_estate.csv')\n",
    "# Show the description of data\n",
    "data.describe()"
   ],
   "id": "39d8eb792ca12cdb",
   "outputs": [
    {
     "data": {
      "text/plain": [
       "               No  X1 transaction date  X2 house age  \\\n",
       "count  414.000000           414.000000    414.000000   \n",
       "mean   207.500000          2013.148971     17.712560   \n",
       "std    119.655756             0.281967     11.392485   \n",
       "min      1.000000          2012.667000      0.000000   \n",
       "25%    104.250000          2012.917000      9.025000   \n",
       "50%    207.500000          2013.167000     16.100000   \n",
       "75%    310.750000          2013.417000     28.150000   \n",
       "max    414.000000          2013.583000     43.800000   \n",
       "\n",
       "       X3 distance to the nearest MRT station  \\\n",
       "count                              414.000000   \n",
       "mean                              1083.885689   \n",
       "std                               1262.109595   \n",
       "min                                 23.382840   \n",
       "25%                                289.324800   \n",
       "50%                                492.231300   \n",
       "75%                               1454.279000   \n",
       "max                               6488.021000   \n",
       "\n",
       "       X4 number of convenience stores  X5 latitude  X6 longitude  \\\n",
       "count                       414.000000   414.000000    414.000000   \n",
       "mean                          4.094203    24.969030    121.533361   \n",
       "std                           2.945562     0.012410      0.015347   \n",
       "min                           0.000000    24.932070    121.473530   \n",
       "25%                           1.000000    24.963000    121.528085   \n",
       "50%                           4.000000    24.971100    121.538630   \n",
       "75%                           6.000000    24.977455    121.543305   \n",
       "max                          10.000000    25.014590    121.566270   \n",
       "\n",
       "       Y house price of unit area  \n",
       "count                  414.000000  \n",
       "mean                    37.980193  \n",
       "std                     13.606488  \n",
       "min                      7.600000  \n",
       "25%                     27.700000  \n",
       "50%                     38.450000  \n",
       "75%                     46.600000  \n",
       "max                    117.500000  "
      ],
      "text/html": [
       "<div>\n",
       "<style scoped>\n",
       "    .dataframe tbody tr th:only-of-type {\n",
       "        vertical-align: middle;\n",
       "    }\n",
       "\n",
       "    .dataframe tbody tr th {\n",
       "        vertical-align: top;\n",
       "    }\n",
       "\n",
       "    .dataframe thead th {\n",
       "        text-align: right;\n",
       "    }\n",
       "</style>\n",
       "<table border=\"1\" class=\"dataframe\">\n",
       "  <thead>\n",
       "    <tr style=\"text-align: right;\">\n",
       "      <th></th>\n",
       "      <th>No</th>\n",
       "      <th>X1 transaction date</th>\n",
       "      <th>X2 house age</th>\n",
       "      <th>X3 distance to the nearest MRT station</th>\n",
       "      <th>X4 number of convenience stores</th>\n",
       "      <th>X5 latitude</th>\n",
       "      <th>X6 longitude</th>\n",
       "      <th>Y house price of unit area</th>\n",
       "    </tr>\n",
       "  </thead>\n",
       "  <tbody>\n",
       "    <tr>\n",
       "      <th>count</th>\n",
       "      <td>414.000000</td>\n",
       "      <td>414.000000</td>\n",
       "      <td>414.000000</td>\n",
       "      <td>414.000000</td>\n",
       "      <td>414.000000</td>\n",
       "      <td>414.000000</td>\n",
       "      <td>414.000000</td>\n",
       "      <td>414.000000</td>\n",
       "    </tr>\n",
       "    <tr>\n",
       "      <th>mean</th>\n",
       "      <td>207.500000</td>\n",
       "      <td>2013.148971</td>\n",
       "      <td>17.712560</td>\n",
       "      <td>1083.885689</td>\n",
       "      <td>4.094203</td>\n",
       "      <td>24.969030</td>\n",
       "      <td>121.533361</td>\n",
       "      <td>37.980193</td>\n",
       "    </tr>\n",
       "    <tr>\n",
       "      <th>std</th>\n",
       "      <td>119.655756</td>\n",
       "      <td>0.281967</td>\n",
       "      <td>11.392485</td>\n",
       "      <td>1262.109595</td>\n",
       "      <td>2.945562</td>\n",
       "      <td>0.012410</td>\n",
       "      <td>0.015347</td>\n",
       "      <td>13.606488</td>\n",
       "    </tr>\n",
       "    <tr>\n",
       "      <th>min</th>\n",
       "      <td>1.000000</td>\n",
       "      <td>2012.667000</td>\n",
       "      <td>0.000000</td>\n",
       "      <td>23.382840</td>\n",
       "      <td>0.000000</td>\n",
       "      <td>24.932070</td>\n",
       "      <td>121.473530</td>\n",
       "      <td>7.600000</td>\n",
       "    </tr>\n",
       "    <tr>\n",
       "      <th>25%</th>\n",
       "      <td>104.250000</td>\n",
       "      <td>2012.917000</td>\n",
       "      <td>9.025000</td>\n",
       "      <td>289.324800</td>\n",
       "      <td>1.000000</td>\n",
       "      <td>24.963000</td>\n",
       "      <td>121.528085</td>\n",
       "      <td>27.700000</td>\n",
       "    </tr>\n",
       "    <tr>\n",
       "      <th>50%</th>\n",
       "      <td>207.500000</td>\n",
       "      <td>2013.167000</td>\n",
       "      <td>16.100000</td>\n",
       "      <td>492.231300</td>\n",
       "      <td>4.000000</td>\n",
       "      <td>24.971100</td>\n",
       "      <td>121.538630</td>\n",
       "      <td>38.450000</td>\n",
       "    </tr>\n",
       "    <tr>\n",
       "      <th>75%</th>\n",
       "      <td>310.750000</td>\n",
       "      <td>2013.417000</td>\n",
       "      <td>28.150000</td>\n",
       "      <td>1454.279000</td>\n",
       "      <td>6.000000</td>\n",
       "      <td>24.977455</td>\n",
       "      <td>121.543305</td>\n",
       "      <td>46.600000</td>\n",
       "    </tr>\n",
       "    <tr>\n",
       "      <th>max</th>\n",
       "      <td>414.000000</td>\n",
       "      <td>2013.583000</td>\n",
       "      <td>43.800000</td>\n",
       "      <td>6488.021000</td>\n",
       "      <td>10.000000</td>\n",
       "      <td>25.014590</td>\n",
       "      <td>121.566270</td>\n",
       "      <td>117.500000</td>\n",
       "    </tr>\n",
       "  </tbody>\n",
       "</table>\n",
       "</div>"
      ]
     },
     "execution_count": 2,
     "metadata": {},
     "output_type": "execute_result"
    }
   ],
   "execution_count": 2
  },
  {
   "metadata": {
    "ExecuteTime": {
     "end_time": "2024-10-17T10:22:31.608076Z",
     "start_time": "2024-10-17T10:22:31.604292Z"
    }
   },
   "cell_type": "code",
   "source": [
    "# Set to training data (x, y)\n",
    "y = data['Y house price of unit area']\n",
    "X = data[['X1 transaction date', 'X2 house age',\n",
    "          'X3 distance to the nearest MRT station',\n",
    "          'X4 number of convenience stores',\n",
    "          'X5 latitude', 'X6 longitude']]\n",
    "\n",
    "# Get the integer part of a value (truncating)\n",
    "X.iloc[:, 0] = X.iloc[:, 0].apply(lambda x: x // 1)\n",
    "X.iloc[:, 1] = X.iloc[:, 1].apply(lambda x: x // 1)\n",
    "\n",
    "y_data = np.asarray(y)\n",
    "x_data = np.asarray(X)\n",
    "data_len = len(x_data)\n",
    "\n",
    "# Split the training set and the validation set\n",
    "x_train = x_data[:350]\n",
    "y_train = y_data[:350]\n",
    "x_test = x_data[350:data_len]\n",
    "y_test = y_data[350:data_len]\n",
    "valid_len = len(y_test)"
   ],
   "id": "70c34cceda288eea",
   "outputs": [],
   "execution_count": 3
  },
  {
   "metadata": {
    "ExecuteTime": {
     "end_time": "2024-10-17T10:22:31.637532Z",
     "start_time": "2024-10-17T10:22:31.631030Z"
    }
   },
   "cell_type": "code",
   "source": [
    "# Linear Regression method\n",
    "# Train model\n",
    "linear_regression = LinearRegression()\n",
    "linear_regression.fit(x_train, y_train)\n",
    "# Predict result\n",
    "y_pred_regression = linear_regression.predict(x_test)\n",
    "\n",
    "# Calculate SSE (Sum Squared Error), MSE, MAE, R-squared\n",
    "print(f'The sum of squared error (SSE): '\n",
    "      f'{mean_squared_error(y_test, y_pred_regression) * valid_len}')\n",
    "print(f'Mean Squared Error (MSE): {mean_squared_error(y_test, y_pred_regression)}')\n",
    "print(f'Mean Absolute Error (MAE): {mean_absolute_error(y_test, y_pred_regression)}')\n",
    "print(f'R-Squared: {r2_score(y_test, y_pred_regression)}')"
   ],
   "id": "ef1ec23907a06b13",
   "outputs": [
    {
     "name": "stdout",
     "output_type": "stream",
     "text": [
      "The sum of squared error (SSE): 4088.3846013956972\n",
      "Mean Squared Error (MSE): 63.88100939680777\n",
      "Mean Absolute Error (MAE): 6.039914365628544\n",
      "R-Squared: 0.5997192851148421\n"
     ]
    }
   ],
   "execution_count": 4
  },
  {
   "metadata": {
    "ExecuteTime": {
     "end_time": "2024-10-17T10:22:31.732947Z",
     "start_time": "2024-10-17T10:22:31.725362Z"
    }
   },
   "cell_type": "code",
   "source": [
    "# K-NN method\n",
    "k = 18\n",
    "\n",
    "def distance(array, value):\n",
    "    return np.linalg.norm(array - value, ord=2, axis=1)\n",
    "\n",
    "\n",
    "def find_nearest_index(array, value, k):\n",
    "    array_D = distance(array, value)\n",
    "    return np.argsort(array_D)[:k]\n",
    "\n",
    "\n",
    "y_predict_knn = np.zeros(len(x_test))\n",
    "\n",
    "for i in range(len(x_test)):\n",
    "    indexis = find_nearest_index(x_train, x_test[i], k)\n",
    "    for id in indexis:\n",
    "        y_predict_knn[i] = y_predict_knn[i] + y_train[id]\n",
    "    y_predict_knn[i] = y_predict_knn[i] / len(indexis)\n",
    "\n",
    "# Calculate MSE, MAE, R-squared\n",
    "print(f'The sum of squared error (SSE): '\n",
    "      f'{mean_squared_error(y_test, y_predict_knn) * valid_len}')\n",
    "print(f'Mean Squared Error (MSE): {mean_squared_error(y_test, y_predict_knn)}')\n",
    "print(f'Mean Absolute Error (MAE): {mean_absolute_error(y_test, y_predict_knn)}')\n",
    "print(f'R-Squared: {r2_score(y_test, y_predict_knn)}')"
   ],
   "id": "30b796a1f3506df2",
   "outputs": [
    {
     "name": "stdout",
     "output_type": "stream",
     "text": [
      "The sum of squared error (SSE): 2808.326728395061\n",
      "Mean Squared Error (MSE): 43.880105131172826\n",
      "Mean Absolute Error (MAE): 4.793749999999999\n",
      "R-Squared: 0.7250456744971305\n"
     ]
    }
   ],
   "execution_count": 5
  }
 ],
 "metadata": {
  "kernelspec": {
   "display_name": "Python 3",
   "language": "python",
   "name": "python3"
  },
  "language_info": {
   "codemirror_mode": {
    "name": "ipython",
    "version": 2
   },
   "file_extension": ".py",
   "mimetype": "text/x-python",
   "name": "python",
   "nbconvert_exporter": "python",
   "pygments_lexer": "ipython2",
   "version": "2.7.6"
  }
 },
 "nbformat": 4,
 "nbformat_minor": 5
}
