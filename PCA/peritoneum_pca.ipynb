{
 "cells": [
  {
   "metadata": {
    "ExecuteTime": {
     "end_time": "2024-10-17T07:31:16.780635Z",
     "start_time": "2024-10-17T07:31:16.705585Z"
    }
   },
   "cell_type": "code",
   "source": [
    "import numpy as np\n",
    "import seaborn as sns\n",
    "import matplotlib.pyplot as plt\n",
    "from sklearn.linear_model import LinearRegression\n",
    "from sklearn.metrics import mean_absolute_error, mean_squared_error, r2_score\n",
    "from sklearn.decomposition import PCA\n",
    "from sklearn.model_selection import train_test_split\n",
    "from sklearn.preprocessing import StandardScaler"
   ],
   "id": "ca4d823c252d15b0",
   "outputs": [],
   "execution_count": 1
  },
  {
   "metadata": {
    "ExecuteTime": {
     "end_time": "2024-10-17T07:31:16.788664Z",
     "start_time": "2024-10-17T07:31:16.784877Z"
    }
   },
   "cell_type": "code",
   "source": [
    "# Read data\n",
    "# Change to data path on your computer\n",
    "with open('peritoneum.txt') as f:\n",
    "    lines = f.readlines()\n",
    "\n",
    "x_data = []\n",
    "y_data = []\n",
    "lines.pop(0)\n",
    "\n",
    "for line in lines:\n",
    "    splitted = line.replace('\\n', '').split(' ')\n",
    "    splitted.pop(0)\n",
    "    splitted = list(map(float, splitted))\n",
    "    y_data.append(splitted[5])\n",
    "    x_data.append([splitted[0], splitted[1], splitted[2], splitted[3], splitted[4]])\n",
    "\n",
    "x_data = np.asarray(x_data)\n",
    "y_data = np.asarray(y_data)\n",
    "data_len = len(x_data)"
   ],
   "id": "85b208665f65280b",
   "outputs": [],
   "execution_count": 2
  },
  {
   "metadata": {
    "ExecuteTime": {
     "end_time": "2024-10-17T07:31:16.957472Z",
     "start_time": "2024-10-17T07:31:16.857237Z"
    }
   },
   "cell_type": "code",
   "source": [
    "# Normalize data\n",
    "x_data = StandardScaler().fit_transform(x_data)\n",
    "\n",
    "# Dimensionality reduction using PCA\n",
    "pca = PCA(n_components=2, random_state=42)\n",
    "x_data_pca = pca.fit_transform(x_data)\n",
    "\n",
    "# Data visualization\n",
    "pc1 = x_data_pca[:, 0]\n",
    "pc2 = x_data_pca[:, 1]\n",
    "sns.scatterplot(x=pc1, y=pc2)\n",
    "plt.show()"
   ],
   "id": "fd86d563c6ca6502",
   "outputs": [
    {
     "data": {
      "text/plain": [
       "<Figure size 640x480 with 1 Axes>"
      ],
      "image/png": "[encoded data removed]"
     },
     "metadata": {},
     "output_type": "display_data"
    }
   ],
   "execution_count": 3
  },
  {
   "metadata": {
    "ExecuteTime": {
     "end_time": "2024-10-17T07:31:16.970626Z",
     "start_time": "2024-10-17T07:31:16.967634Z"
    }
   },
   "cell_type": "code",
   "source": [
    "# Split training set and validation set for original data\n",
    "x_train, x_test, y_train, y_test = train_test_split(x_data, y_data,\n",
    "                                                    test_size=0.2, random_state=42)\n",
    "# Split training set and validation set for dimensionality reduction data\n",
    "x_train_pca, x_test_pca, y_train_pca, y_test_pca = train_test_split(x_data_pca, y_data,\n",
    "                                                                    test_size=0.2, random_state=42)"
   ],
   "id": "30fc9116df168a0e",
   "outputs": [],
   "execution_count": 4
  },
  {
   "metadata": {
    "ExecuteTime": {
     "end_time": "2024-10-17T07:31:17.015327Z",
     "start_time": "2024-10-17T07:31:17.012181Z"
    }
   },
   "cell_type": "code",
   "source": [
    "# Linear Regression method\n",
    "def linear_regression_approach(x_train, x_test, y_train, y_test):\n",
    "    linear_reg = LinearRegression()\n",
    "    linear_reg.fit(x_train, y_train)\n",
    "    y_pred = linear_reg.predict(x_test)\n",
    "    print(f'Mean Absolute Error: {mean_absolute_error(y_test, y_pred)}')\n",
    "    print(f'Mean Squared Error: {mean_squared_error(y_test, y_pred)}')\n",
    "    print(f'R-squared error: {r2_score(y_test, y_pred)}')"
   ],
   "id": "dce7df30f8c221d8",
   "outputs": [],
   "execution_count": 5
  },
  {
   "metadata": {
    "ExecuteTime": {
     "end_time": "2024-10-17T07:31:17.066543Z",
     "start_time": "2024-10-17T07:31:17.060934Z"
    }
   },
   "cell_type": "code",
   "source": [
    "# Print the result\n",
    "# Original data\n",
    "print(f'Original data: ')\n",
    "linear_regression_approach(x_train, x_test, y_train, y_test)\n",
    "# Dimensionality reduction data\n",
    "print(f'\\nDimensionality reduction data: ')\n",
    "linear_regression_approach(x_train_pca, x_test_pca, y_train_pca, y_test_pca)"
   ],
   "id": "953df2937cf4860e",
   "outputs": [
    {
     "name": "stdout",
     "output_type": "stream",
     "text": [
      "Original data: \n",
      "Mean Absolute Error: 0.24253680178241108\n",
      "Mean Squared Error: 0.17851473088966155\n",
      "R-squared error: 0.23209149234182425\n",
      "\n",
      "Dimensionality reduction data: \n",
      "Mean Absolute Error: 0.26689807438146085\n",
      "Mean Squared Error: 0.1939879491594482\n",
      "R-squared error: 0.16553106961925768\n"
     ]
    }
   ],
   "execution_count": 6
  },
  {
   "metadata": {},
   "cell_type": "markdown",
   "source": [
    "- Độ đo R-squared của hướng tiếp cận giảm chiều dữ liệu rồi mới thực hiện Linear Regression thấp hơn đáng kể so với hướng tiếp cận thực hiện Linear Regression trên tập dữ liệu gốc. Có thể nói phương pháp Linear Regression đối với bài toán này không phù hợp. Việc giảm chiều dữ liệu càng khiến mô hình Linear Regression không phù hợp với bài toán này.\n",
    "- Các độ đo MAE, MSE của hướng tiếp cận giảm chiều dữ liệu rồi mới thực hiện Linear Regression đều cao hơn so với hướng tiếp cận thực hiện Linear Regression trên tập dữ liệu gốc. Do đó, đối với bài toán này, việc giảm chiều dữ liệu rồi thực hiện Linear Regression cho kết quả dự báo tệ hơn thực hiện Linear Regression trên tập dữ liệu gốc.\n"
   ],
   "id": "bb424c68bd4949fa"
  }
 ],
 "metadata": {
  "kernelspec": {
   "display_name": "Python 3",
   "language": "python",
   "name": "python3"
  },
  "language_info": {
   "codemirror_mode": {
    "name": "ipython",
    "version": 2
   },
   "file_extension": ".py",
   "mimetype": "text/x-python",
   "name": "python",
   "nbconvert_exporter": "python",
   "pygments_lexer": "ipython2",
   "version": "2.7.6"
  }
 },
 "nbformat": 4,
 "nbformat_minor": 5
}
